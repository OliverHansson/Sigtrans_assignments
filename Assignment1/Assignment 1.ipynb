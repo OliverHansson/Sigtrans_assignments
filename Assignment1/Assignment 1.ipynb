{
 "cells": [
  {
   "cell_type": "code",
   "execution_count": 3,
   "metadata": {},
   "outputs": [],
   "source": [
    "import numpy as np\n",
    "import matplotlib.pyplot as plt\n",
    "from scipy import signal\n",
    "import sounddevice as sd"
   ]
  },
  {
   "attachments": {},
   "cell_type": "markdown",
   "metadata": {},
   "source": []
  },
  {
   "attachments": {},
   "cell_type": "markdown",
   "metadata": {},
   "source": [
    "## Task 1:\n",
    "This task consist of three parts. 1a), 1b) and 1c) \n",
    "We want to generate two sine signals x1(t) and x2(t), \n",
    "\n",
    "    x1(t): with period,  T1 = 0.01 s \n",
    "    \n",
    "    x2(t): with frequency,  f2 = 1000 Hz \n",
    "    \n",
    "for the interval 0 s ≤ t < 5 s. Both signals should have amplitude 1 and zero phase shift. Where the angular frequency ω is calculated using the following:\n",
    "$$\n",
    "ω=2πf\n",
    "$$\n",
    "\n",
    "$$\n",
    "f = \\frac{1}{T}\n",
    "$$"
   ]
  },
  {
   "cell_type": "code",
   "execution_count": 4,
   "metadata": {},
   "outputs": [],
   "source": [
    "start = 0   # Start value\n",
    "stop = 5  # Stop value\n",
    "increment = 0.00001  # Increment value (TODO: we might want to make this even smaller?)\n",
    "\n",
    "t = np.arange(start, stop, increment)\n",
    "\n",
    "# Generate the signals\n",
    "T1 = 0.01  # Period for x1(t) in seconds\n",
    "f2 = 1000  # Frequency for x2(t) in Hz\n",
    "\n",
    "# Generate thie sin signal x1(t) with period T1\n",
    "x1 = np.sin(2 * np.pi * t / T1)\n",
    "\n",
    "# Generate thie sin signal x2(t) with frequency f2\n",
    "x2 = np.sin(2 * np.pi * f2 * t)\n"
   ]
  },
  {
   "attachments": {},
   "cell_type": "markdown",
   "metadata": {},
   "source": [
    "### 1a)\n",
    "\n",
    "We want to figure out x1(t) and x2(t) natural frequencies, angular frequencies, and\n",
    "periods.\n",
    "\n"
   ]
  },
  {
   "cell_type": "markdown",
   "metadata": {},
   "source": []
  }
 ],
 "metadata": {
  "kernelspec": {
   "display_name": ".venv",
   "language": "python",
   "name": "python3"
  },
  "language_info": {
   "codemirror_mode": {
    "name": "ipython",
    "version": 3
   },
   "file_extension": ".py",
   "mimetype": "text/x-python",
   "name": "python",
   "nbconvert_exporter": "python",
   "pygments_lexer": "ipython3",
   "version": "3.11.3"
  },
  "orig_nbformat": 4,
  "vscode": {
   "interpreter": {
    "hash": "398b3099b2f9a3759929b094588b502c026996306d25948f4f60d29fa0005ad9"
   }
  }
 },
 "nbformat": 4,
 "nbformat_minor": 2
}
