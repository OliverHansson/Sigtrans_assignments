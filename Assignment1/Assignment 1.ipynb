{
 "cells": [
  {
   "cell_type": "code",
   "execution_count": 3,
   "metadata": {},
   "outputs": [],
   "source": [
    "import numpy as np\n",
    "import matplotlib.pyplot as plt\n",
    "from scipy import signal\n",
    "import sounddevice as sd"
   ]
  },
  {
   "attachments": {},
   "cell_type": "markdown",
   "metadata": {},
   "source": [
    "## Task 1:\n",
    "This task consist of three parts. 1a), 1b) and 1c)"
   ]
  },
  {
   "attachments": {},
   "cell_type": "markdown",
   "metadata": {},
   "source": [
    "We want to generate two sine signals x1(t) and x2(t), \n",
    "\n",
    "    x1(t): with period T1 = 0.01 s \n",
    "    x2(t): with frequency f2 = 1000 Hz \n",
    "    \n",
    "for the interval 0 s ≤ t < 5 s. Both signals should have amplitude 1 and zero phase shift."
   ]
  },
  {
   "cell_type": "code",
   "execution_count": 4,
   "metadata": {},
   "outputs": [],
   "source": [
    "start = 0   # Start value\n",
    "stop = 5  # Stop value\n",
    "increment = 0.00001  # Increment value\n",
    "\n",
    "t = np.arange(start, stop, increment)\n",
    "\n",
    "# Generate the signals\n",
    "T1 = 0.01  # Period for x1(t) in seconds\n",
    "f2 = 1000  # Frequency for x2(t) in Hz\n",
    "\n",
    "# Generate thie sin signal x1(t) with period T1\n",
    "x1 = np.sin(2 * np.pi * t / T1)\n",
    "\n",
    "# Generate thie sin signal x2(t) with frequency f2\n",
    "x2 = np.sin(2 * np.pi * f2 * t)\n"
   ]
  },
  {
   "attachments": {},
   "cell_type": "markdown",
   "metadata": {},
   "source": [
    "### 1a)\n",
    "\n",
    "We want to figure out x1(t) and x2(t) natural frequencies, angular frequencies, and\n",
    "periods.\n",
    "\n"
   ]
  }
 ],
 "metadata": {
  "kernelspec": {
   "display_name": ".venv",
   "language": "python",
   "name": "python3"
  },
  "language_info": {
   "codemirror_mode": {
    "name": "ipython",
    "version": 3
   },
   "file_extension": ".py",
   "mimetype": "text/x-python",
   "name": "python",
   "nbconvert_exporter": "python",
   "pygments_lexer": "ipython3",
   "version": "3.11.3"
  },
  "orig_nbformat": 4,
  "vscode": {
   "interpreter": {
    "hash": "c0796f9bb35ef215f76fa124da3fcf44da8fab1d21a8bdc1617bb308f0dc027d"
   }
  }
 },
 "nbformat": 4,
 "nbformat_minor": 2
}
