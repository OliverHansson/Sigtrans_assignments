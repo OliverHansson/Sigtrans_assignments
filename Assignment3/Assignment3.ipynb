{
 "cells": [
  {
   "cell_type": "code",
   "execution_count": 15,
   "metadata": {},
   "outputs": [],
   "source": [
    "import numpy as np\n",
    "import matplotlib.pyplot as plt\n",
    "from scipy import signal\n",
    "import sounddevice as sd"
   ]
  },
  {
   "attachments": {},
   "cell_type": "markdown",
   "metadata": {},
   "source": [
    "## Task 1)"
   ]
  },
  {
   "cell_type": "code",
   "execution_count": 26,
   "metadata": {},
   "outputs": [],
   "source": [
    "T_k = np.arange(0, 5, 0.1)\n",
    "results = np.zeros(T_k.shape)\n",
    "freq = 1000\n",
    "counter = 0\n",
    "\n",
    "def cos(freq, t):\n",
    "    return np.cos(2*np.pi*freq * t)\n",
    "\n",
    "for i in T_k:\n",
    "    results[counter] = cos(freq, i)\n",
    "    counter+=1\n",
    "\n",
    "sd.play(results,freq, blocking=True)"
   ]
  }
 ],
 "metadata": {
  "kernelspec": {
   "display_name": ".venv",
   "language": "python",
   "name": "python3"
  },
  "language_info": {
   "codemirror_mode": {
    "name": "ipython",
    "version": 3
   },
   "file_extension": ".py",
   "mimetype": "text/x-python",
   "name": "python",
   "nbconvert_exporter": "python",
   "pygments_lexer": "ipython3",
   "version": "3.11.3"
  },
  "orig_nbformat": 4,
  "vscode": {
   "interpreter": {
    "hash": "398b3099b2f9a3759929b094588b502c026996306d25948f4f60d29fa0005ad9"
   }
  }
 },
 "nbformat": 4,
 "nbformat_minor": 2
}
